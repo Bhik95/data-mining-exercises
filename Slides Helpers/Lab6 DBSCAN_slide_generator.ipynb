{
 "cells": [
  {
   "cell_type": "markdown",
   "metadata": {},
   "source": [
    "# DELETE ME - DBSCAN Slide Image generators\n",
    "\n",
    "This week's exercise will focus on density-based clustering using DBSCAN\n",
    "\n",
    "Schedule:\n",
    "* Implement the core of DBSCAN\n",
    "* Clustering visualizations"
   ]
  },
  {
   "cell_type": "code",
   "execution_count": 1,
   "metadata": {},
   "outputs": [],
   "source": [
    "# ! git pull"
   ]
  },
  {
   "cell_type": "code",
   "execution_count": 2,
   "metadata": {},
   "outputs": [],
   "source": [
    "# Makes matplotlib plots work better with Jupyter\n",
    "%matplotlib inline\n",
    "\n",
    "# Import the necessary libraries. \n",
    "import os\n",
    "\n",
    "import numpy as np\n",
    "import pandas as pd\n",
    "import matplotlib.pyplot as plt\n",
    "import seaborn as sns\n",
    "from sklearn import preprocessing\n",
    "from sklearn.datasets import make_moons\n",
    "from sklearn.cluster import KMeans, DBSCAN\n",
    "from collections import deque\n",
    "\n",
    "pd.options.mode.chained_assignment = None"
   ]
  },
  {
   "cell_type": "markdown",
   "metadata": {},
   "source": [
    "## Take a look at the data"
   ]
  },
  {
   "cell_type": "code",
   "execution_count": 3,
   "metadata": {
    "scrolled": true
   },
   "outputs": [
    {
     "data": {
      "text/html": [
       "<div>\n",
       "<style scoped>\n",
       "    .dataframe tbody tr th:only-of-type {\n",
       "        vertical-align: middle;\n",
       "    }\n",
       "\n",
       "    .dataframe tbody tr th {\n",
       "        vertical-align: top;\n",
       "    }\n",
       "\n",
       "    .dataframe thead th {\n",
       "        text-align: right;\n",
       "    }\n",
       "</style>\n",
       "<table border=\"1\" class=\"dataframe\">\n",
       "  <thead>\n",
       "    <tr style=\"text-align: right;\">\n",
       "      <th></th>\n",
       "      <th>x0</th>\n",
       "      <th>x1</th>\n",
       "    </tr>\n",
       "  </thead>\n",
       "  <tbody>\n",
       "    <tr>\n",
       "      <th>0</th>\n",
       "      <td>2.0</td>\n",
       "      <td>2.0</td>\n",
       "    </tr>\n",
       "    <tr>\n",
       "      <th>1</th>\n",
       "      <td>5.0</td>\n",
       "      <td>2.0</td>\n",
       "    </tr>\n",
       "    <tr>\n",
       "      <th>2</th>\n",
       "      <td>4.0</td>\n",
       "      <td>4.0</td>\n",
       "    </tr>\n",
       "    <tr>\n",
       "      <th>3</th>\n",
       "      <td>1.0</td>\n",
       "      <td>1.5</td>\n",
       "    </tr>\n",
       "    <tr>\n",
       "      <th>4</th>\n",
       "      <td>1.0</td>\n",
       "      <td>1.0</td>\n",
       "    </tr>\n",
       "    <tr>\n",
       "      <th>5</th>\n",
       "      <td>3.0</td>\n",
       "      <td>4.0</td>\n",
       "    </tr>\n",
       "  </tbody>\n",
       "</table>\n",
       "</div>"
      ],
      "text/plain": [
       "    x0   x1\n",
       "0  2.0  2.0\n",
       "1  5.0  2.0\n",
       "2  4.0  4.0\n",
       "3  1.0  1.5\n",
       "4  1.0  1.0\n",
       "5  3.0  4.0"
      ]
     },
     "execution_count": 3,
     "metadata": {},
     "output_type": "execute_result"
    }
   ],
   "source": [
    "# generate 2d moons dataset\n",
    "X = np.array([[2., 2.], [5., 2.], [4., 4.], [1., 1.5], [1., 1.], [3., 4.]])\n",
    "data = pd.DataFrame(dict(x0=X[:,0], x1=X[:,1]))\n",
    "\n",
    "features = ['x0', 'x1']\n",
    "\n",
    "data.head(10)"
   ]
  },
  {
   "cell_type": "code",
   "execution_count": 4,
   "metadata": {},
   "outputs": [],
   "source": [
    "# Standardize features\n",
    "# data[features] = data[features].sub(data[features].mean(axis=0)).divide(data[features].std(axis=0))"
   ]
  },
  {
   "cell_type": "code",
   "execution_count": 5,
   "metadata": {},
   "outputs": [
    {
     "data": {
      "image/png": "[encoded data removed]",
      "text/plain": [
       "<Figure size 432x432 with 1 Axes>"
      ]
     },
     "metadata": {
      "needs_background": "light"
     },
     "output_type": "display_data"
    }
   ],
   "source": [
    "ax = data.plot('x0', 'x1', kind=\"scatter\", figsize=(6,6), grid=True, xlim=(0,6), ylim=(0, 6))\n",
    "for i, txt in enumerate(data.index):\n",
    "    ax.annotate(txt, (data.at[i, \"x0\"] - 0.1,data.at[i, \"x1\"] + 0.1), size=10, xytext=(0,0), ha='right', textcoords='offset points')"
   ]
  },
  {
   "cell_type": "markdown",
   "metadata": {},
   "source": [
    "# DBSCAN - TODOTODOTODOTODOTODOTODOTODOTODOTODOTODOTODOTODO\n",
    "[DBSCAN Algorithm](https://towardsdatascience.com/dbscan-algorithm-complete-guide-and-application-with-python-scikit-learn-d690cbae4c5d)\n",
    "1. Initialize the *visited* set and the *toVisitQueue*\n",
    "2. create K random centroids as arrays with size the number of features\n",
    "3. foreach `datapoint` in `data`:\n",
    "  1. set as `centroid` of `datapoint` the closest `centroid`\n",
    "  2. if at least one `centroid` has changed: goto 3\n",
    "  \n",
    "### Tips\n",
    "- the computations needed for k-means are expensive, test on a small subset of the data to save time (5/10 to check calculations on single rows, 50/100 to check the correctness of the whole algorithm)\n",
    "- you'll need to compute a distance at a certain point, check Lab3\n",
    "- [DataFrame.idxmin](https://pandas.pydata.org/pandas-docs/stable/reference/api/pandas.DataFrame.idxmin.html]) will give you the index of the smallest entry in a dataset\n",
    "- `dataFrame1 is dataFrame2` is not correct (it checks if the two objects are the same, not if they contain the same values). The correct approach is `dataFrame1.equals(dataFrame2)` (or `dataFrame1['aColumn'].equals(dataFrame2['aColumn'])` ;))\n",
    "- You can apply a function to every element/row/column of a dataframe by using the `apply` pandas function\n",
    "- To update the values of the centroids, you might find the combination of `groupby` and `mean` to be useful.\n",
    "### Visualizing DBSCAN Algorithm [(link)](https://www.naftaliharris.com/blog/visualizing-dbscan-clustering/)\n",
    "Naftali Harris has created a great web-based visualization of running DBSCAN on a 2-dimensional dataset. Try clicking on the “Smiley” dataset and hitting the GO button."
   ]
  },
  {
   "cell_type": "code",
   "execution_count": 6,
   "metadata": {},
   "outputs": [],
   "source": [
    "def DBSCAN(data, epsilon=0.25, min_samples=3, max_step=-1):\n",
    "    \n",
    "    # 1a - Set of the indices of points that have been already visited\n",
    "    visited = set()\n",
    "    \n",
    "    # 1c - Initialize every point as an outlier (Cluster = -1)\n",
    "    data = data.assign(Cluster=pd.Series([-1] * len(data)))\n",
    "    \n",
    "    currentCluster = 0\n",
    "    \n",
    "    currentRow = -1\n",
    "    \n",
    "    step = 1\n",
    "    queue = []\n",
    "    mex = \"Done\"\n",
    "    \n",
    "    def neighbourhood(x):\n",
    "        # Find the distance between x and every point in the dataset\n",
    "        distances = data[features].sub(x[features]) \\\n",
    "            .pow(2).sum(1).pow(0.5)\n",
    "        # Return the list of indices of the points that are at distance <= epsilon\n",
    "        ## YOUR CODE HERE\n",
    "        return distances.loc[(distances <= epsilon)].index.tolist()\n",
    "    \n",
    "    # This function starts a cluster formation. \n",
    "    # If the starting point is a core point, add its non-visited neighbours to the queue \n",
    "    # If the starting point is not a core point, the cluster formation stops and False is returned\n",
    "    def cluster_formation(startIndex, step_):\n",
    "        visited.add(startIndex)\n",
    "        aClusterHasBeenFormed = False\n",
    "        \n",
    "        # Queue of the indices of points that are in the neighbourhood of a core point, but that have not been visited yet\n",
    "        pointsToAddToCurrentCluster = deque()\n",
    "        pointsToAddToCurrentCluster.append(startIndex)\n",
    "        if (max_step >= 0 and step_ > max_step):#early stopping\n",
    "            mex_ = \"Point \"+str(currentRow)+\" has not been visited yet. Start a cluster formation and add point \"+str(currentRow)+\" to the queue.\"\n",
    "            return aClusterHasBeenFormed, step_, pointsToAddToCurrentCluster, mex_\n",
    "        step_ += 1\n",
    "        \n",
    "        # Start the cluster formation: While the queue is not empty...\n",
    "        while len(pointsToAddToCurrentCluster) > 0:\n",
    "            # ... Pop from the queue to get the current point\n",
    "            currentIndex = pointsToAddToCurrentCluster.popleft()\n",
    "            \n",
    "            # Get the neighbours of the current point\n",
    "            ## YOUR CODE HERE\n",
    "            neighbours = neighbourhood(data.loc[currentIndex])\n",
    "            \n",
    "            # If the current point is a core point...\n",
    "            ## YOUR CODE HERE\n",
    "            if(len(neighbours) >= min_samples):\n",
    "                aClusterHasBeenFormed = True\n",
    "                \n",
    "                # Assign the current point and its neighbours to the current cluster\n",
    "                ## YOUR CODE HERE\n",
    "                data.at[currentIndex, 'Cluster'] = currentCluster\n",
    "                data.at[neighbours, 'Cluster'] = currentCluster\n",
    "                \n",
    "                # Add the non-visited neighbours to the queue of points to visit\n",
    "                ## YOUR CODE HERE\n",
    "                for neighbourIndex in neighbours:\n",
    "                    if not neighbourIndex in visited:\n",
    "                        visited.add(neighbourIndex)\n",
    "                        pointsToAddToCurrentCluster.append(neighbourIndex)\n",
    "                if (max_step >= 0 and step_ > max_step):#early stopping\n",
    "                    mex_ = \"Popped point \" + str(currentIndex)+\" from the queue. Its neighbourhood is \"+ str(neighbours)\n",
    "                    mex_ += \"\\n Point \"+ str(currentIndex)+\" is a core point, so assign its neighbours to the current cluster (\"+str(currentCluster)+\"), add the unvisited ones to the queue and set them as visited\"\n",
    "                    return aClusterHasBeenFormed, step_, pointsToAddToCurrentCluster, mex_\n",
    "                step_ += 1\n",
    "            else:\n",
    "                if (max_step >= 0 and step_ > max_step):#early stopping\n",
    "                    mex_ = \"Popped point \" + str(currentIndex)+\" from the queue. Its neighbourhood is \"+ str(neighbours)\n",
    "                    mex_ += \"\\n Point \"+ str(currentIndex)+\" is not a core point,  so just continue\"\n",
    "                    return aClusterHasBeenFormed, step_, pointsToAddToCurrentCluster, mex_\n",
    "                step_ += 1\n",
    "        if aClusterHasBeenFormed:\n",
    "            mex_ = \"The queue is empty and cluster \"+str(currentCluster)+\" has been fully formed. CurrentCluster++\"\n",
    "        else:\n",
    "            mex_ = \"The queue is empty and no cluster could be formed. Select the next point from the dataset.\"\n",
    "        \n",
    "        return aClusterHasBeenFormed, step_, pointsToAddToCurrentCluster, mex_\n",
    "    \n",
    "    # For each unvisited point in the dataset, start a cluster formation\n",
    "    for rowIndex in data.index:\n",
    "        if rowIndex in visited:\n",
    "            if (max_step >= 0 and step > max_step):#early stopping\n",
    "                mex = \"Point \"+str(rowIndex)+\" has already been visited -> continue.\"\n",
    "                break\n",
    "            step += 1\n",
    "            continue\n",
    "            \n",
    "        currentRow = rowIndex\n",
    "        \n",
    "        aClusterHasBeenFormed, step, queue, mex = cluster_formation(rowIndex, step)\n",
    "        if (max_step >= 0 and step > max_step):#early stopping\n",
    "            break\n",
    "        step += 1\n",
    "            \n",
    "        # if a cluster has been formed (= if the current row is not an outlier),\n",
    "        # increase the currentCluster number for the next iterations\n",
    "        if aClusterHasBeenFormed:\n",
    "            currentCluster += 1\n",
    "    \n",
    "    if (max_step >= 0 and step > max_step):\n",
    "        print(\"Step:\", max_step)\n",
    "    else:\n",
    "        print(\"Total steps:\", step)\n",
    "    if(currentRow >=0):\n",
    "        print(\"Current Cluster:\", str(currentCluster), \"(from point \"+str(currentRow)+\")\")\n",
    "    print(\"Visited:\", visited)\n",
    "    print(\"Queue:\", list(queue))\n",
    "    print(\"What happened:\", mex)\n",
    "    return data"
   ]
  },
  {
   "cell_type": "code",
   "execution_count": 7,
   "metadata": {},
   "outputs": [],
   "source": [
    "#for i in range(0, 16):\n",
    "#    print(\"-----\")\n",
    "#    new_data = DBSCAN(data, epsilon=2, min_samples=2, max_step=i)"
   ]
  },
  {
   "cell_type": "code",
   "execution_count": 8,
   "metadata": {
    "scrolled": true
   },
   "outputs": [
    {
     "name": "stdout",
     "output_type": "stream",
     "text": [
      "Total steps: 16\n",
      "Current Cluster: 2 (from point 2)\n",
      "Visited: {0, 1, 2, 3, 4, 5}\n",
      "Queue: []\n",
      "What happened: The queue is empty and cluster 1 has been fully formed. CurrentCluster++\n"
     ]
    }
   ],
   "source": [
    "new_data = DBSCAN(data, epsilon=2, min_samples=2, max_step=-1)"
   ]
  },
  {
   "cell_type": "code",
   "execution_count": 9,
   "metadata": {
    "scrolled": true
   },
   "outputs": [
    {
     "data": {
      "text/html": [
       "<div>\n",
       "<style scoped>\n",
       "    .dataframe tbody tr th:only-of-type {\n",
       "        vertical-align: middle;\n",
       "    }\n",
       "\n",
       "    .dataframe tbody tr th {\n",
       "        vertical-align: top;\n",
       "    }\n",
       "\n",
       "    .dataframe thead th {\n",
       "        text-align: right;\n",
       "    }\n",
       "</style>\n",
       "<table border=\"1\" class=\"dataframe\">\n",
       "  <thead>\n",
       "    <tr style=\"text-align: right;\">\n",
       "      <th></th>\n",
       "      <th>x0</th>\n",
       "      <th>x1</th>\n",
       "      <th>Cluster</th>\n",
       "    </tr>\n",
       "  </thead>\n",
       "  <tbody>\n",
       "    <tr>\n",
       "      <th>0</th>\n",
       "      <td>2.0</td>\n",
       "      <td>2.0</td>\n",
       "      <td>0</td>\n",
       "    </tr>\n",
       "    <tr>\n",
       "      <th>1</th>\n",
       "      <td>5.0</td>\n",
       "      <td>2.0</td>\n",
       "      <td>-1</td>\n",
       "    </tr>\n",
       "    <tr>\n",
       "      <th>2</th>\n",
       "      <td>4.0</td>\n",
       "      <td>4.0</td>\n",
       "      <td>1</td>\n",
       "    </tr>\n",
       "    <tr>\n",
       "      <th>3</th>\n",
       "      <td>1.0</td>\n",
       "      <td>1.5</td>\n",
       "      <td>0</td>\n",
       "    </tr>\n",
       "    <tr>\n",
       "      <th>4</th>\n",
       "      <td>1.0</td>\n",
       "      <td>1.0</td>\n",
       "      <td>0</td>\n",
       "    </tr>\n",
       "    <tr>\n",
       "      <th>5</th>\n",
       "      <td>3.0</td>\n",
       "      <td>4.0</td>\n",
       "      <td>1</td>\n",
       "    </tr>\n",
       "  </tbody>\n",
       "</table>\n",
       "</div>"
      ],
      "text/plain": [
       "    x0   x1  Cluster\n",
       "0  2.0  2.0        0\n",
       "1  5.0  2.0       -1\n",
       "2  4.0  4.0        1\n",
       "3  1.0  1.5        0\n",
       "4  1.0  1.0        0\n",
       "5  3.0  4.0        1"
      ]
     },
     "execution_count": 9,
     "metadata": {},
     "output_type": "execute_result"
    }
   ],
   "source": [
    "new_data"
   ]
  },
  {
   "cell_type": "markdown",
   "metadata": {},
   "source": [
    "# Clusters visualization\n",
    "The most difficult task with clustering is understand if the clustering makes sense and what the clustering means. If the dimensionality is low, a good idea is to use a pairplot and see if the clusters are really close in each slice. The closer they are, the better."
   ]
  },
  {
   "cell_type": "code",
   "execution_count": 10,
   "metadata": {
    "scrolled": false
   },
   "outputs": [
    {
     "data": {
      "image/png": "[encoded data removed]",
      "text/plain": [
       "<Figure size 432x288 with 1 Axes>"
      ]
     },
     "metadata": {},
     "output_type": "display_data"
    }
   ],
   "source": [
    "clusterNames = new_data['Cluster'].unique()\n",
    "clusterNames.sort()\n",
    "n_clusters = len(clusterNames)\n",
    "\n",
    "markers_ = [\"o\"] * (n_clusters)\n",
    "if clusterNames[0] == -1:\n",
    "    markers_[0] = \"X\"\n",
    "    \n",
    "sns.set_style(\"whitegrid\")\n",
    "ax = sns.scatterplot(data=new_data, x='x0', y='x1', hue='Cluster', palette=sns.color_palette(\"tab20\", n_clusters), style='Cluster', markers=markers_)\n",
    "for i, txt in enumerate(data.index):\n",
    "    ax.annotate(txt, (data.at[i, \"x0\"] - 0.1,data.at[i, \"x1\"] + 0.1), size=10, xytext=(0,0), ha='right', textcoords='offset points')"
   ]
  },
  {
   "cell_type": "code",
   "execution_count": null,
   "metadata": {},
   "outputs": [],
   "source": []
  },
  {
   "cell_type": "code",
   "execution_count": null,
   "metadata": {},
   "outputs": [],
   "source": []
  }
 ],
 "metadata": {
  "kernelspec": {
   "display_name": "Python 3",
   "language": "python",
   "name": "python3"
  },
  "language_info": {
   "codemirror_mode": {
    "name": "ipython",
    "version": 3
   },
   "file_extension": ".py",
   "mimetype": "text/x-python",
   "name": "python",
   "nbconvert_exporter": "python",
   "pygments_lexer": "ipython3",
   "version": "3.9.1"
  }
 },
 "nbformat": 4,
 "nbformat_minor": 2
}
