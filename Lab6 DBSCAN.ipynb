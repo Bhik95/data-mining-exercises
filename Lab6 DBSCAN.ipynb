{
 "cells": [
  {
   "cell_type": "markdown",
   "metadata": {},
   "source": [
    "# Lab6 DBSCAN\n",
    "\n",
    "This week's exercise will focus on density-based clustering using DBSCAN\n",
    "\n",
    "Schedule:\n",
    "* Implement the core of DBSCAN\n",
    "* Clustering visualizations"
   ]
  },
  {
   "cell_type": "code",
   "execution_count": null,
   "metadata": {},
   "outputs": [],
   "source": [
    "# ! git pull"
   ]
  },
  {
   "cell_type": "code",
   "execution_count": null,
   "metadata": {},
   "outputs": [],
   "source": [
    "# Makes matplotlib plots work better with Jupyter\n",
    "%matplotlib inline\n",
    "\n",
    "# Import the necessary libraries. \n",
    "import os\n",
    "\n",
    "import numpy as np\n",
    "import pandas as pd\n",
    "import matplotlib.pyplot as plt\n",
    "import seaborn as sns\n",
    "from sklearn import preprocessing\n",
    "from sklearn.datasets import make_moons\n",
    "from sklearn.cluster import KMeans, DBSCAN\n",
    "from collections import deque\n",
    "\n",
    "pd.options.mode.chained_assignment = None"
   ]
  },
  {
   "cell_type": "markdown",
   "metadata": {},
   "source": [
    "## Take a look at the data"
   ]
  },
  {
   "cell_type": "code",
   "execution_count": null,
   "metadata": {
    "scrolled": true
   },
   "outputs": [],
   "source": [
    "# generate 2d moons dataset\n",
    "X, _ = make_moons(n_samples=100, noise=0.1)\n",
    "data = pd.DataFrame(dict(x0=X[:,0], x1=X[:,1]))\n",
    "\n",
    "features = ['x0', 'x1']\n",
    "\n",
    "print(data.columns)"
   ]
  },
  {
   "cell_type": "code",
   "execution_count": null,
   "metadata": {},
   "outputs": [],
   "source": [
    "# Standardize features\n",
    "data[features] = data[features].sub(data[features].mean(axis=0)).divide(data[features].std(axis=0))"
   ]
  },
  {
   "cell_type": "code",
   "execution_count": null,
   "metadata": {},
   "outputs": [],
   "source": [
    "sns.pairplot(data, vars=features)"
   ]
  },
  {
   "cell_type": "markdown",
   "metadata": {},
   "source": [
    "The scatter plot gives us a visual overview of the possible clusters. Let's see what happens when we try to partition the data with K-means (implemented in `sklearn.clusters`). Let's set K to 2."
   ]
  },
  {
   "cell_type": "code",
   "execution_count": null,
   "metadata": {},
   "outputs": [],
   "source": [
    "kmeans = KMeans(n_clusters=2, random_state=0).fit(data[features])\n",
    "data['KMeansClusters'] = pd.Series(kmeans.labels_)\n",
    "\n",
    "sns.pairplot(data, vars=features, hue='KMeansClusters')"
   ]
  },
  {
   "cell_type": "markdown",
   "metadata": {},
   "source": [
    "We can see that *K-Means* is not an appropriate clustering algorithm for this kind of dataset. Let's try to use **DBSCAN**, a density-based algorithm, and see if we can achieve better results.\n",
    "\n",
    "**Spoiler: We will**"
   ]
  },
  {
   "cell_type": "code",
   "execution_count": null,
   "metadata": {},
   "outputs": [],
   "source": [
    "# You might want to play around with the parameters \"epsilon\" and \"min_samples\" and see which results you can get\n",
    "DBSCANClustering = DBSCAN(eps=0.4, min_samples=4).fit(data[features])\n",
    "data['DBSCANClusters'] = pd.Series(DBSCANClustering.labels_)"
   ]
  },
  {
   "cell_type": "code",
   "execution_count": null,
   "metadata": {},
   "outputs": [],
   "source": [
    "clusterNames = data['DBSCANClusters'].unique()\n",
    "clusterNames.sort()\n",
    "\n",
    "n_clusters = len(clusterNames)\n",
    "\n",
    "# Use circles for clusters (\"o\") and crosses for outliers (\"x\")\n",
    "markers = [\"o\"] * (n_clusters)\n",
    "if clusterNames[0] == -1:\n",
    "    markers[0] = \"X\"\n",
    "\n",
    "sns.pairplot(data, vars=features, hue='DBSCANClusters', palette=sns.color_palette(\"tab20\", n_clusters), markers=markers)"
   ]
  },
  {
   "cell_type": "code",
   "execution_count": null,
   "metadata": {},
   "outputs": [],
   "source": [
    "# Let's go back to the original dataset:\n",
    "data = data.drop('KMeansClusters', axis=1)\n",
    "data = data.drop('DBSCANClusters', axis=1)\n",
    "data.head()"
   ]
  },
  {
   "cell_type": "markdown",
   "metadata": {},
   "source": [
    "# DBSCAN\n",
    "\n",
    "### Check the Presentation in \"./Lab6 - DBSCAN Implementation Example.pdf\" for a better understanding\n",
    "\n",
    "[DBSCAN Algorithm](https://towardsdatascience.com/dbscan-algorithm-complete-guide-and-application-with-python-scikit-learn-d690cbae4c5d)\n",
    "### Implement the DBSCAN function:\n",
    "1. Initialize the *visited* set and assign all points to cluster=-1 (outliers)\n",
    "2. Implement the function *neighbourhood(x)* that returns the neighbourhood of a point x (return a list of indices)\n",
    "3. Implement the function *cluster_formation(startIndex)* (See next section)\n",
    "4. For each unvisited point in the dataset\n",
    "  1. Start a cluster formation\n",
    "  2. If a cluster has been formed (if the current point is not an outlier), increment the *currentCluster* number"
   ]
  },
  {
   "cell_type": "markdown",
   "metadata": {},
   "source": [
    "### Define the function *cluster_formation(startIndex)*\n",
    "1. Add start index to the *visited* set\n",
    "2. Initialize a queue (*deque* from the *collections* package) and add startIndex to it\n",
    "3. While the queue is not empty...\n",
    "  1. Pop *currentIndex* from the queue\n",
    "  2. Find the neighbourhood of the point at index *currentIndex*\n",
    "  3. If len(neighbourhood)>min_samples, *currentIndex* is a core point and:\n",
    "    1. Assign the current point and its neighbours to the *currentCluster* (you can use pandas' ***at*** method)\n",
    "    2. Add the non-visited neighbours to the queue of points to visit and to the visited set\n",
    "  4. Return whether or not a cluster has been formed.\n",
    "  \n",
    "### Tips\n",
    "- \n",
    "### Visualizing DBSCAN Algorithm [(link)](https://www.naftaliharris.com/blog/visualizing-dbscan-clustering/)\n",
    "Naftali Harris has created a great web-based visualization of running DBSCAN on a 2-dimensional dataset. Try clicking on the “Smiley” dataset and hitting the GO button."
   ]
  },
  {
   "cell_type": "code",
   "execution_count": null,
   "metadata": {},
   "outputs": [],
   "source": [
    "def DBSCAN(data, epsilon=0.25, min_samples=3):\n",
    "    \n",
    "    # 1a - Set of the indices of points that have been already visited\n",
    "    visited = set()\n",
    "    \n",
    "    # 1c - Initialize every point as an outlier (Cluster = -1)\n",
    "    data = data.assign(Cluster=pd.Series([-1] * len(data)))\n",
    "    \n",
    "    currentCluster = 0\n",
    "    \n",
    "    def neighbourhood(x):\n",
    "        # Find the distance between x and every point in the dataset\n",
    "        distances = data[features].sub(x[features]) \\\n",
    "            .pow(2).sum(1).pow(0.5)\n",
    "        # Return the list of indices of the points that are at distance <= epsilon\n",
    "        ## YOUR CODE HERE\n",
    "        pass\n",
    "    \n",
    "    # This function starts a cluster formation. \n",
    "    # If the starting point is a core point, add its non-visited neighbours to the queue \n",
    "    # If the starting point is not a core point, the cluster formation stops and False is returned\n",
    "    def cluster_formation(startIndex):\n",
    "        visited.add(startIndex)\n",
    "        aClusterHasBeenFormed = False\n",
    "        \n",
    "        # Queue of the indices of points that are in the neighbourhood of a core point, but that have not been visited yet\n",
    "        pointsToAddToCurrentCluster = deque()\n",
    "        pointsToAddToCurrentCluster.append(startIndex)\n",
    "        \n",
    "        # Start the cluster formation: While the queue is not empty...\n",
    "        while len(pointsToAddToCurrentCluster) > 0:\n",
    "            # ... Pop from the queue to get the current point\n",
    "            currentIndex = pointsToAddToCurrentCluster.popleft()\n",
    "            \n",
    "            # Get the neighbours of the point at index currentIndex\n",
    "            ## YOUR CODE HERE\n",
    "            neighbours = \n",
    "            \n",
    "            # If the current point is a core point...\n",
    "            ## YOUR CODE HERE\n",
    "            if(## CONDITION ##):\n",
    "                aClusterHasBeenFormed = True\n",
    "                \n",
    "                # Assign the current point and its neighbours to the current cluster\n",
    "                ## YOUR CODE HERE\n",
    "                \n",
    "                # Add the non-visited neighbours to the queue of points to visit and to the visited set\n",
    "                ## YOUR CODE HERE\n",
    "\n",
    "        return aClusterHasBeenFormed\n",
    "    \n",
    "    # For each unvisited point in the dataset, start a cluster formation\n",
    "    for rowIndex in data.index:\n",
    "        if rowIndex in visited:\n",
    "            continue\n",
    "            \n",
    "        aClusterHasBeenFormed = cluster_formation(rowIndex)\n",
    "        \n",
    "        # if a cluster has been formed (= if the current row is not an outlier),\n",
    "        # increment the currentCluster number\n",
    "        if aClusterHasBeenFormed:\n",
    "            currentCluster += 1\n",
    "    \n",
    "    return data"
   ]
  },
  {
   "cell_type": "code",
   "execution_count": null,
   "metadata": {},
   "outputs": [],
   "source": [
    "new_data = DBSCAN(data, epsilon=0.4, min_samples=4)"
   ]
  },
  {
   "cell_type": "code",
   "execution_count": null,
   "metadata": {
    "scrolled": true
   },
   "outputs": [],
   "source": [
    "new_data"
   ]
  },
  {
   "cell_type": "markdown",
   "metadata": {},
   "source": [
    "# Clusters visualization\n",
    "The most difficult task with clustering is understand if the clustering makes sense and what the clustering means. If the dimensionality is low, a good idea is to use a pairplot and see if the clusters are really close in each slice. The closer they are, the better."
   ]
  },
  {
   "cell_type": "code",
   "execution_count": null,
   "metadata": {
    "scrolled": false
   },
   "outputs": [],
   "source": [
    "clusterNames = new_data['Cluster'].unique()\n",
    "clusterNames.sort()\n",
    "n_clusters = len(clusterNames)\n",
    "\n",
    "markers = [\"o\"] * (n_clusters)\n",
    "if clusterNames[0] == -1:\n",
    "    markers[0] = \"X\"\n",
    "\n",
    "sns.pairplot(new_data, vars=features, hue='Cluster', palette=sns.color_palette(\"tab20\", n_clusters), markers=markers)"
   ]
  },
  {
   "cell_type": "code",
   "execution_count": null,
   "metadata": {},
   "outputs": [],
   "source": []
  },
  {
   "cell_type": "code",
   "execution_count": null,
   "metadata": {},
   "outputs": [],
   "source": []
  }
 ],
 "metadata": {
  "kernelspec": {
   "display_name": "Python 3",
   "language": "python",
   "name": "python3"
  },
  "language_info": {
   "codemirror_mode": {
    "name": "ipython",
    "version": 3
   },
   "file_extension": ".py",
   "mimetype": "text/x-python",
   "name": "python",
   "nbconvert_exporter": "python",
   "pygments_lexer": "ipython3",
   "version": "3.9.1"
  }
 },
 "nbformat": 4,
 "nbformat_minor": 2
}
