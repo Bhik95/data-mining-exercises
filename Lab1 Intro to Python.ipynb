{
 "cells": [
  {
   "cell_type": "markdown",
   "metadata": {
    "id": "6hlSj-x-216Q"
   },
   "source": [
    "# Intro to Python and Google Colab\n",
    "A Colab Notebook is an online interactive environment where you can run and write python code. The document is made of multiple cells: *text cells* and *code cells*.\n",
    "\n",
    "This is a text cell. Double-click on me to edit me."
   ]
  },
  {
   "cell_type": "markdown",
   "metadata": {
    "id": "jjbAFySJnmVS"
   },
   "source": [
    "The following one is a *code cell*: it usually contains plain python code.\n",
    "Code cells can also run *bash commands* by pre-fixing \"!\" to the command.\n",
    "\n",
    " Press *shift+enter* while selecting a *code cell* to run it."
   ]
  },
  {
   "cell_type": "code",
   "execution_count": null,
   "metadata": {
    "id": "Hbi9TMZEoZb7"
   },
   "outputs": [],
   "source": [
    "# Example of bash commands\n",
    "!pwd\n",
    "# print working directory\n",
    "!echo \"Hello World!\"\n",
    "# for each file/folder in the working directory, display its information\n",
    "!ls -l"
   ]
  },
  {
   "cell_type": "code",
   "execution_count": null,
   "metadata": {
    "id": "yLXpv991rIlu"
   },
   "outputs": [],
   "source": [
    "# You can usebash commands to install python packages or clone repositories!\n",
    "# !pip install numpy\n",
    "# !git clone https://github.com/Demigiant/dotween.git"
   ]
  },
  {
   "cell_type": "markdown",
   "metadata": {
    "id": "2xM1sF676dr9"
   },
   "source": [
    "## Intro to Python"
   ]
  },
  {
   "cell_type": "code",
   "execution_count": null,
   "metadata": {
    "id": "oR_AA-06DkS4"
   },
   "outputs": [],
   "source": [
    "# Execute me by pressing SHIFT+ENTER!\n",
    "\n",
    "'''\n",
    "I'm a multi-line comment\n",
    "'''\n",
    "\n",
    "# strings (\"text\" or 'text')\n",
    "string1 = \"Hello\"\n",
    "string2 = ' World!'\n",
    "print(string1 + string2) # String concatenation"
   ]
  },
  {
   "cell_type": "code",
   "execution_count": null,
   "metadata": {
    "id": "wh_l8zj2Dcpr"
   },
   "outputs": [],
   "source": [
    "# numbers\n",
    "x = 5.0\n",
    "y = 2\n",
    "\n",
    "# Basic operators: + - * / % ** //\n",
    "\n",
    "print(x, \"**\", y, \"=\", x**y) # Exponential Operator **\n",
    "print(x, \"%\", y, \"=\", x%y) # Modulus Operator **\n",
    "print(x, \"//\", y, \"=\", x//y) # Floor Division //"
   ]
  },
  {
   "cell_type": "code",
   "execution_count": null,
   "metadata": {
    "id": "7qzM6VQvaPhc"
   },
   "outputs": [],
   "source": []
  },
  {
   "cell_type": "code",
   "execution_count": null,
   "metadata": {
    "id": "9oCJGkMLtnDm"
   },
   "outputs": [],
   "source": [
    "# conversions\n",
    "x_string = \"5\"\n",
    "x_int = int(x_string) # to int\n",
    "\n",
    "y_int = 3\n",
    "y_string = str(3) # to string"
   ]
  },
  {
   "cell_type": "code",
   "execution_count": null,
   "metadata": {
    "id": "aCwRYqequAlf"
   },
   "outputs": [],
   "source": [
    "# type operator\n",
    "print(type(y_int))\n",
    "print(type(y_string))"
   ]
  },
  {
   "cell_type": "markdown",
   "metadata": {
    "id": "7dZQwTh08kzf"
   },
   "source": [
    "## Lists"
   ]
  },
  {
   "cell_type": "code",
   "execution_count": null,
   "metadata": {
    "id": "6JkJ2USL3NSf"
   },
   "outputs": [],
   "source": [
    "grocery_list = ['Juice', 'Tomatoes', 'Potatoes', 'Bananas']\n",
    "\n",
    "print(grocery_list)"
   ]
  },
  {
   "cell_type": "code",
   "execution_count": null,
   "metadata": {
    "id": "Te2tslaaEcdK"
   },
   "outputs": [],
   "source": [
    "print(\"First Element:\", grocery_list[0])\n",
    "print(\"Last Element:\", grocery_list[-1]) # negative index means \"from the end of the array\": -1 => last element, -2 => second to last element, ..."
   ]
  },
  {
   "cell_type": "code",
   "execution_count": null,
   "metadata": {
    "id": "HnP_Y-NZjSaK"
   },
   "outputs": [],
   "source": [
    "# [Replace], Append, Insert, Remove\n",
    "grocery_list[0] = \"Watermelon\"\n",
    "grocery_list.append(\"Strawberry\") # append at the end of the list\n",
    "grocery_list.insert(1, \"Onions\") # insert at index 1\n",
    "grocery_list.remove(\"Bananas\")\n",
    "print(\"Updated list:\", grocery_list)"
   ]
  },
  {
   "cell_type": "code",
   "execution_count": null,
   "metadata": {
    "id": "xadIV7ChjYWe"
   },
   "outputs": [],
   "source": [
    "days_of_the_week = [\"Monday\", \"Tuesday\", \"Wednesday\", \"Thursday\", \"Friday\", \"Saturday\", \"Sunday\"]\n",
    "\n",
    "# Subset of a list [start:end]\n",
    "sublist = days_of_the_week[2:4]\n",
    "print(sublist)"
   ]
  },
  {
   "cell_type": "code",
   "execution_count": null,
   "metadata": {
    "id": "cRuPWzyu9AKh"
   },
   "outputs": [],
   "source": [
    "# List of lists\n",
    "days_of_the_week = [[\"Monday\", \"Tuesday\", \"Wednesday\", \"Thursday\", \"Friday\", \"Saturday\", \"Sunday\"],\n",
    "                 [\"Mandag\", \"Tirsdag\", \"Onsdag\", \"Torsdag\", \"Fredag\", \"Lørdag\", \"Søndag\"],\n",
    "                 [\"Lunedì\", \"Martedì\", \"Mercoledì\", \"Giovedì\", \"Venerdì\", \"Sabato\", \"Domenica\"]]\n",
    "print(days_of_the_week)"
   ]
  },
  {
   "cell_type": "code",
   "execution_count": null,
   "metadata": {
    "id": "UCf4nSjXj0I1"
   },
   "outputs": [],
   "source": [
    "# Print the working days in Danish by subselecting elements from days_of_the_week\n",
    "\n",
    "weekend_days_in_danish = days_of_the_week[1][5:]\n",
    "print(\"Weekend Days in Danish:\", weekend_days_in_danish)"
   ]
  },
  {
   "cell_type": "code",
   "execution_count": null,
   "metadata": {
    "id": "pPXXr4L2_nSp"
   },
   "outputs": [],
   "source": [
    "numbers = [4,2,6,8,14,12,10]\n",
    "\n",
    "# sort the numbers in ascending order\n",
    "numbers.sort()\n",
    "print(\"Ascending Order:\", numbers)"
   ]
  },
  {
   "cell_type": "code",
   "execution_count": null,
   "metadata": {
    "id": "FNJLGVwtwkjs"
   },
   "outputs": [],
   "source": [
    "# reverse the previous array to get descending order\n",
    "numbers.reverse()\n",
    "print(\"Descending Order\", numbers)"
   ]
  },
  {
   "cell_type": "code",
   "execution_count": null,
   "metadata": {
    "id": "7NeuGmXcwmFU"
   },
   "outputs": [],
   "source": [
    "# length of the list\n",
    "length = len(numbers)\n",
    "print(\"length:\", length)"
   ]
  },
  {
   "cell_type": "code",
   "execution_count": null,
   "metadata": {
    "id": "ZSw3qqFzwxIQ"
   },
   "outputs": [],
   "source": [
    "# max and min of a list\n",
    "print(\"max:\", max(numbers))\n",
    "print(\"min:\", min(numbers))"
   ]
  },
  {
   "cell_type": "markdown",
   "metadata": {
    "id": "sjuyzI8wCflZ"
   },
   "source": [
    "## Dictionaries"
   ]
  },
  {
   "cell_type": "code",
   "execution_count": null,
   "metadata": {
    "id": "pQNjWMrwBQ2I"
   },
   "outputs": [],
   "source": [
    "country_to_first_language = {\n",
    "    'Denmark': 'Danish',\n",
    "    'UK': 'English',\n",
    "    'Italy': 'Italian',\n",
    "    'Spain': 'Spanish'\n",
    "}\n",
    "\n",
    "print(country_to_first_language['Denmark'])"
   ]
  },
  {
   "cell_type": "code",
   "execution_count": null,
   "metadata": {
    "id": "3wNuCUcyxwf3"
   },
   "outputs": [],
   "source": [
    "print(\"Length of the dictionary:\", len(country_to_first_language))"
   ]
  },
  {
   "cell_type": "code",
   "execution_count": null,
   "metadata": {
    "id": "snZWI73ux1n2"
   },
   "outputs": [],
   "source": [
    "print(\"Keys:\", country_to_first_language.keys())\n",
    "print(\"Values:\", country_to_first_language.values())"
   ]
  },
  {
   "cell_type": "code",
   "execution_count": null,
   "metadata": {
    "id": "xylna9LMx1qH"
   },
   "outputs": [],
   "source": [
    "del country_to_first_language['Italy'] # delete the entry with key='Italy'\n",
    "print(country_to_first_language)"
   ]
  },
  {
   "cell_type": "markdown",
   "metadata": {
    "id": "vqjA4Nk3wYv4"
   },
   "source": [
    "## Conditionals"
   ]
  },
  {
   "cell_type": "code",
   "execution_count": null,
   "metadata": {
    "id": "cwf804urDOfU"
   },
   "outputs": [],
   "source": [
    "# if, elif, else\n",
    "# == != > >= < <=\n",
    "# and, or, not\n",
    "\n",
    "age = 31\n",
    "\n",
    "if age > 16:\n",
    "    print('You are old enough to drive')\n",
    "else:\n",
    "    print('You are not old enough to drive')\n",
    "\n",
    "if age >= 21:\n",
    "    print('You are old enough to drive a tractor trailer')\n",
    "elif age >= 16:\n",
    "    print('You are old enough to drive a car')\n",
    "else:\n",
    "    print('You are not old enough to drive')\n",
    "\n",
    "# logical operators (and, or, not)\n",
    "if ((age >= 1) and (age <= 18)):\n",
    "    print('You get a birthday')\n",
    "elif (age == 21) or (age >= 65):\n",
    "    print('You get a birthday')\n",
    "elif not age == 30:\n",
    "    print(\"You don't get a birthday\")\n",
    "else:\n",
    "    print(\"You get a birthday party!\")"
   ]
  },
  {
   "cell_type": "markdown",
   "metadata": {
    "id": "FVMNp4zTz1Pf"
   },
   "source": [
    "## Loops"
   ]
  },
  {
   "cell_type": "code",
   "execution_count": null,
   "metadata": {
    "id": "QQiI3bJOwt7J"
   },
   "outputs": [],
   "source": [
    "# FOR IN\n",
    "\n",
    "# Numbers from 0 (included) to 10 (excluded)\n",
    "for x in range(10):\n",
    "    print(x)"
   ]
  },
  {
   "cell_type": "code",
   "execution_count": null,
   "metadata": {
    "id": "M7eU09Nwy6Vb"
   },
   "outputs": [],
   "source": [
    "# Numbers from 0 (included) to 10 (excluded), step=2\n",
    "for x in range(0, 10, 2):\n",
    "    print(x, end=\" \")\n",
    "print('\\n')"
   ]
  },
  {
   "cell_type": "code",
   "execution_count": null,
   "metadata": {
    "id": "0p4DFb2ymWeq"
   },
   "outputs": [],
   "source": [
    "# Iterate on the VALUES of a list\n",
    "for x in [\"Hello\", 121, 3.4]:\n",
    "    print(x)"
   ]
  },
  {
   "cell_type": "code",
   "execution_count": null,
   "metadata": {
    "id": "nMM_IKy5mZuK"
   },
   "outputs": [],
   "source": [
    "# ENUMERATE: to iterate on both indexes and values\n",
    "for index, value in enumerate(grocery_list):\n",
    "    print(\"Index:\", index, \"- Value:\", value)"
   ]
  },
  {
   "cell_type": "code",
   "execution_count": null,
   "metadata": {
    "id": "hgYEvlA8z5u-"
   },
   "outputs": [],
   "source": [
    "# WHILE LOOP\n",
    "\n",
    "import random\n",
    "\n",
    "random_num = random.randrange(0, 10)\n",
    "while(random_num != 5):\n",
    "    print(random_num)\n",
    "    random_num = random.randrange(0, 10)\n",
    "print(random_num)"
   ]
  },
  {
   "cell_type": "markdown",
   "metadata": {
    "id": "7JwT3Ha81vF0"
   },
   "source": [
    "## Functions"
   ]
  },
  {
   "cell_type": "code",
   "execution_count": null,
   "metadata": {
    "id": "7J5CNmHw1w7_"
   },
   "outputs": [],
   "source": [
    "def addNumber(x, y):\n",
    "    return x + y\n",
    "\n",
    "print(addNumber(1,2))"
   ]
  },
  {
   "cell_type": "code",
   "execution_count": null,
   "metadata": {
    "id": "Gmox-x5j16AQ"
   },
   "outputs": [],
   "source": [
    "# Returning MULTIPLE VALUES:\n",
    "\n",
    "# Return the argmin and min of a list\n",
    "def argminAndMin(list):\n",
    "    argmin = -1\n",
    "    min = float('inf') # positive infinity\n",
    "    for index, value in enumerate(list):\n",
    "        if value < min:\n",
    "            argmin = index\n",
    "            min = value\n",
    "    return argmin, min # a function can return multiple values (by returning a tuple)"
   ]
  },
  {
   "cell_type": "code",
   "execution_count": null,
   "metadata": {
    "id": "pRNYhkd10dNt"
   },
   "outputs": [],
   "source": [
    "# calling a function with multiple values\n",
    "argmin, min = argminAndMin([5,-3, 7])\n",
    "\n",
    "print(\"Min:\", min, \" - Index:\", argmin)"
   ]
  },
  {
   "cell_type": "markdown",
   "metadata": {
    "id": "LJc-43TIqsH6"
   },
   "source": [
    "## Objects"
   ]
  },
  {
   "cell_type": "code",
   "execution_count": null,
   "metadata": {
    "id": "_r7HRgkFqz8F"
   },
   "outputs": [],
   "source": [
    "class Student:\n",
    "    #private attributes (prefix: \"__\")\n",
    "    __name = \"\"\n",
    "    __last_name = \"\"\n",
    "    __year_of_enrollment = -1\n",
    "\n",
    "    # constructor\n",
    "    def __init__(self, name, last_name, year):\n",
    "        self.__name = name\n",
    "        self.__last_name = last_name\n",
    "        self.__year_of_enrollment = year\n",
    "\n",
    "    # methods\n",
    "    def set_name(self, name):\n",
    "        self.__name = name\n",
    "    \n",
    "    def get_name(self):\n",
    "        return self.__name\n",
    "\n",
    "    def set_last_name(self, last_name):\n",
    "        self.__last_name = last_name\n",
    "    \n",
    "    def get_last_name(self):\n",
    "        return self.__last_name\n",
    "\n",
    "    def set_year_of_enrollment(self, year):\n",
    "        self.__year_of_enrollment = year\n",
    "    \n",
    "    def get_year_of_enrollment(self):\n",
    "        return self.__year_of_enrollment"
   ]
  },
  {
   "cell_type": "code",
   "execution_count": null,
   "metadata": {
    "id": "RZH0LyehsVDa"
   },
   "outputs": [],
   "source": [
    "student1 = Student(\"Marie\", \"Curie\", 2020)\n",
    "student2 = Student(\"Navn\", \"Navnsen\", 2020)\n",
    "student3 = Student(\"Francesco\", \"Frassineti\", 2019)\n",
    "\n",
    "print(student1.get_last_name())"
   ]
  },
  {
   "cell_type": "code",
   "execution_count": null,
   "metadata": {
    "id": "qdBI_hcc0wY3"
   },
   "outputs": [],
   "source": []
  },
  {
   "cell_type": "markdown",
   "metadata": {
    "id": "EO_1uM_-4M95"
   },
   "source": [
    "# NumPy\n",
    "NumPy is an open-source numerical Python library.\n",
    "It is used to perform calculations over multi-dimensional arrays and matrices.\n",
    "These include: trigonometric and statistical calculations, linear algebra and random number generation.\n",
    "It's a wrapper around a library implemented in C.\n",
    "\n",
    "If not installed, install it with:\n",
    "\n",
    "\n",
    "\n",
    "```\n",
    "pip install numpy\n",
    "```\n",
    "\n",
    "\n"
   ]
  },
  {
   "cell_type": "code",
   "execution_count": null,
   "metadata": {
    "id": "db6ebh854MJs"
   },
   "outputs": [],
   "source": [
    "import numpy as np\n",
    "\n",
    "a = np.array([[1, 0, 3], [7, 8, 9]])\n",
    "\n",
    "print(a)"
   ]
  },
  {
   "cell_type": "code",
   "execution_count": null,
   "metadata": {
    "id": "MELPzrgC8dHt"
   },
   "outputs": [],
   "source": [
    "print(\"Number of axes (dimensions):\", a.ndim)"
   ]
  },
  {
   "cell_type": "code",
   "execution_count": null,
   "metadata": {
    "id": "mVTOjCtU8z7k"
   },
   "outputs": [],
   "source": [
    "a.shape"
   ]
  },
  {
   "cell_type": "code",
   "execution_count": null,
   "metadata": {
    "id": "wxFsmlDm80BI"
   },
   "outputs": [],
   "source": [
    "a.size"
   ]
  },
  {
   "cell_type": "markdown",
   "metadata": {
    "id": "rD_nJQM8TKEi"
   },
   "source": [
    "NumPy Array Creation:"
   ]
  },
  {
   "cell_type": "code",
   "execution_count": null,
   "metadata": {
    "id": "4maGqdm-SDKq"
   },
   "outputs": [],
   "source": [
    "# create a NumPy array from a python list with the np.array function\n",
    "b = np.array([[1,2,3],[4,5,6]])"
   ]
  },
  {
   "cell_type": "code",
   "execution_count": null,
   "metadata": {
    "id": "aH_H8Ox8Tm8p"
   },
   "outputs": [],
   "source": [
    "# create arrays with placeholder content: zeros\n",
    "zeros = np.zeros((3,4))\n",
    "print(zeros)"
   ]
  },
  {
   "cell_type": "code",
   "execution_count": null,
   "metadata": {
    "id": "kx0EYehuTyoS"
   },
   "outputs": [],
   "source": [
    "# create arrays with placeholder content: ones\n",
    "ones = np.ones((3,4))\n",
    "print(ones)"
   ]
  },
  {
   "cell_type": "code",
   "execution_count": null,
   "metadata": {
    "id": "GjLjA_YCUgPT"
   },
   "outputs": [],
   "source": [
    "# create arrays with values in range(start, end, STEP)\n",
    "c = np.arange(0, 2, 0.3)\n",
    "print(c)"
   ]
  },
  {
   "cell_type": "code",
   "execution_count": null,
   "metadata": {
    "id": "U-zPFkoVU1v4"
   },
   "outputs": [],
   "source": [
    "# create arrays with values in range. The function np.linspace(start, end, N) receives as an argument the number of elements that we want, instead of the step parameter:\n",
    "d = np.linspace(0, 2, 10)\n",
    "print(d)"
   ]
  },
  {
   "cell_type": "markdown",
   "metadata": {
    "id": "0eCU5rndWMbW"
   },
   "source": [
    "**Reshape**:\n",
    "returns an array with a modified shape (the original array is not modified!)"
   ]
  },
  {
   "cell_type": "code",
   "execution_count": null,
   "metadata": {
    "id": "Tj6YEUHtWOtH"
   },
   "outputs": [],
   "source": [
    "e = np.arange(12)\n",
    "print(e)\n",
    "print(\"Shape:\",e.shape)\n",
    "\n",
    "print(\"\")\n",
    "\n",
    "e_reshaped = e.reshape(4,3)\n",
    "print(e_reshaped)\n",
    "print(\"Shape\",e_reshaped.shape)"
   ]
  },
  {
   "cell_type": "markdown",
   "metadata": {
    "id": "-gkS3iDGYFFk"
   },
   "source": [
    "## Operations with NumPy Arrays\n",
    "Arithmetic operators on arrays apply *elementwise*. A new array is created and filled with the result."
   ]
  },
  {
   "cell_type": "code",
   "execution_count": null,
   "metadata": {
    "id": "yMfBDGZNYSiU"
   },
   "outputs": [],
   "source": [
    "a = np.array([10, 20, 30, 40, 50, 60, 70,  80, 90])\n",
    "print(a)\n",
    "b = np.arange(-4,5)\n",
    "print(b)"
   ]
  },
  {
   "cell_type": "code",
   "execution_count": null,
   "metadata": {
    "id": "yNJiSKDnYhIV"
   },
   "outputs": [],
   "source": [
    "# array1 OPERATOR array2\n",
    "\n",
    "c = a + b # elementwise!\n",
    "print(c)"
   ]
  },
  {
   "cell_type": "code",
   "execution_count": null,
   "metadata": {
    "id": "XmRv-UHk_U7-"
   },
   "outputs": [],
   "source": [
    "d = a - b\n",
    "print(d)"
   ]
  },
  {
   "cell_type": "code",
   "execution_count": null,
   "metadata": {
    "id": "9zse-SjaYs8t"
   },
   "outputs": [],
   "source": [
    "# array OPERATOR number (or number OPERATOR array).\n",
    "b_squared = b ** 2\n",
    "\n",
    "print(\"b:\", b)\n",
    "print(\"b_squared:\", b_squared)"
   ]
  },
  {
   "cell_type": "code",
   "execution_count": null,
   "metadata": {
    "id": "J1K48a3YY4cT"
   },
   "outputs": [],
   "source": [
    "# common numpy functions\n",
    "print(\"sin(b):\", np.sin(b))\n",
    "print(\"exp(b):\", np.exp(b))\n",
    "print(\"sqrt(b):\", np.sqrt(b))"
   ]
  },
  {
   "cell_type": "code",
   "execution_count": null,
   "metadata": {
    "id": "DSeRrBVuY_EC"
   },
   "outputs": [],
   "source": [
    "print(\"b:\", b)\n",
    "b_positive = b > 0\n",
    "print(\"b_positive:\", b_positive)"
   ]
  },
  {
   "cell_type": "code",
   "execution_count": null,
   "metadata": {
    "id": "lLAWtI6sfykC"
   },
   "outputs": [],
   "source": [
    "# unary operators\n",
    "print(\"b:\", b)\n",
    "\n",
    "print(\"min:\", b.min())\n",
    "print(\"argmin:\", b.argmin())\n",
    "print(\"max:\", b.max())\n",
    "print(\"argmax:\", b.argmax())\n",
    "print(\"sum:\", b.sum())\n",
    "print(\"mean:\", b.mean())"
   ]
  },
  {
   "cell_type": "code",
   "execution_count": null,
   "metadata": {
    "id": "uqpttpCpgfyA"
   },
   "outputs": [],
   "source": [
    "# unary operators over a specified axis\n",
    "array = np.arange(12).reshape(3,4)\n",
    "\n",
    "print(array)\n",
    "print(\"Sum:\", array.sum()) # no axis specified -> sum along every axis\n",
    "print(\"Sum along rows:\", array.sum(axis=0))\n",
    "print(\"Sum along columns:\", array.sum(axis=1))"
   ]
  },
  {
   "cell_type": "markdown",
   "metadata": {
    "id": "UsgUyNmbaiKw"
   },
   "source": [
    "### Matrix Product\n",
    "The matrix product can be performed using the @ operator or the *dot* function.\n",
    "\n",
    "CAUTION: A * B is the *elementwise product*!"
   ]
  },
  {
   "cell_type": "code",
   "execution_count": null,
   "metadata": {
    "id": "plPRAXdra4Vr"
   },
   "outputs": [],
   "source": [
    "A = np.array([[1, 1], [0, 1]])\n",
    "B = np.array([[2, 0], [3, 4]])\n",
    "\n",
    "print(\"Matrix Product: A@B =\", A@B)\n",
    "print(\"Matrix Product: A.dot(B) =\", A.dot(B))\n",
    "\n",
    "print(\"Elementwise Product: A*B =\", A*B)"
   ]
  },
  {
   "cell_type": "markdown",
   "metadata": {
    "id": "xe4ilTg5hOY4"
   },
   "source": [
    "## Slicing\n",
    "Slicing in python means taking elements from one given index to another given index.\n",
    "\n",
    "We pass slice instead of index like this: `[start:end]`. We can also define the step, like this: `[start:end:step]`.\n",
    "\n",
    "If we don't pass start its considered 0. If we don't pass end its considered length of array in that dimension. If we don't pass step its considered 1."
   ]
  },
  {
   "cell_type": "code",
   "execution_count": null,
   "metadata": {
    "id": "GxWtZcqMll8y"
   },
   "outputs": [],
   "source": [
    "a = np.arange(12)\n",
    "print(\"a:\", a)\n",
    "\n",
    "print(\"Elements from index 2 to index 7 (excluded):\", a[2:7])"
   ]
  },
  {
   "cell_type": "code",
   "execution_count": null,
   "metadata": {
    "id": "6gMHqSNZE00Z"
   },
   "outputs": [],
   "source": [
    "print(\"First 2 elements:\", a[:2])"
   ]
  },
  {
   "cell_type": "code",
   "execution_count": null,
   "metadata": {
    "id": "_l4unDCpFajh"
   },
   "outputs": [],
   "source": [
    "print(\"Elements starting from index 7:\", a[7:])"
   ]
  },
  {
   "cell_type": "code",
   "execution_count": null,
   "metadata": {
    "id": "hJsasqeLFcSO"
   },
   "outputs": [],
   "source": [
    "print(\"All of the elements:\", a[:])"
   ]
  },
  {
   "cell_type": "code",
   "execution_count": null,
   "metadata": {
    "id": "sfTJWAsSE2j2"
   },
   "outputs": [],
   "source": [
    "print(\"All elements at even indexes (step=2):\", a[::2])\n",
    "print(\"All elements at odd indexes (step=2):\", a[1::2])"
   ]
  },
  {
   "cell_type": "code",
   "execution_count": null,
   "metadata": {
    "id": "RZ0ykCqChO1C"
   },
   "outputs": [],
   "source": [
    "# multi-dimensional case\n",
    "\n",
    "b = np.arange(12).reshape(4, 3)\n",
    "print(\"b:\",b)\n",
    "\n",
    "print(\"Every element in the first column of b:\", b[:,0])\n",
    "print(\"Every element in the first row of b:\", b[0,:])\n",
    "print(\"Last 2 rows and first 2 columns of b:\", b[-2:, :2])"
   ]
  },
  {
   "cell_type": "markdown",
   "metadata": {
    "id": "dP6IeIFohP8i"
   },
   "source": [
    "## Stacking\n",
    "Several arrays can be stacked together along different axes with \n",
    "\n",
    "```\n",
    "# np.hstack\n",
    "```\n",
    "and\n",
    "\n",
    "\n",
    "```\n",
    "# np.vstack\n",
    "```\n",
    "\n",
    "\n",
    "\n"
   ]
  },
  {
   "cell_type": "code",
   "execution_count": null,
   "metadata": {
    "id": "PUIqb5PahTsi"
   },
   "outputs": [],
   "source": [
    "a = np.array([[1, 2], [3,4]])\n",
    "print(\"a:\", a)\n",
    "\n",
    "b = np.array([[10, 20], [30, 40]])\n",
    "print(\"b:\", b)\n",
    "\n",
    "print(\"Vertical Stacking:\")\n",
    "vertical_stack = np.vstack((a, b)) # !!! Notice that the stack functions accepts a TUPLE of the arrays to stack together !!!\n",
    "print(vertical_stack)\n",
    "\n",
    "print(\"Horizontal Stacking:\")\n",
    "horizontal_stack = np.hstack((a, b))\n",
    "print(horizontal_stack)"
   ]
  },
  {
   "cell_type": "markdown",
   "metadata": {
    "id": "lRmyvZ0yqK3f"
   },
   "source": [
    "# Extra Resources\n",
    "\n",
    "**Learn Python**: https://www.learnpython.org/\n",
    "It contains small exercises at the end of each section.\n",
    "\n",
    "**Numpy Quickstart Tutorial**:\n",
    "https://numpy.org/doc/stable/user/quickstart.html"
   ]
  },
  {
   "cell_type": "code",
   "execution_count": null,
   "metadata": {},
   "outputs": [],
   "source": []
  }
 ],
 "metadata": {
  "colab": {
   "name": "Data Mining 2021 - Lab1",
   "provenance": []
  },
  "kernelspec": {
   "display_name": "Python 3",
   "language": "python",
   "name": "python3"
  },
  "language_info": {
   "codemirror_mode": {
    "name": "ipython",
    "version": 3
   },
   "file_extension": ".py",
   "mimetype": "text/x-python",
   "name": "python",
   "nbconvert_exporter": "python",
   "pygments_lexer": "ipython3",
   "version": "3.9.1"
  }
 },
 "nbformat": 4,
 "nbformat_minor": 1
}
