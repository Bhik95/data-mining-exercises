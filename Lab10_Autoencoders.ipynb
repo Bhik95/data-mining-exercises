{
 "cells": [
  {
   "cell_type": "markdown",
   "metadata": {
    "colab_type": "text",
    "id": "J7IYFVoXJSd-"
   },
   "source": [
    "(Material adapted by Luis Fernando Laris Pardo's)\n",
    "# Autoencoders\n",
    "For today's exercise we are going to be implementing autoencoders, one cool implementation can be found [here](https://medium.com/@sorenlind/a-deep-convolutional-denoising-autoencoder-for-image-classification-26c777d3b88e) where autoencoders are used to get unnoisy images from magic the gathering cards. \n",
    "\n",
    "For this I have used the most common starter example for autoencoders that can be found using the mnist dataset. Remember that the autoencoder is doing something similar to the following:\n",
    "\n",
    "![image](https://www.pyimagesearch.com/wp-content/uploads/2020/02/keras_denoising_autoencoder_overview.png)\n",
    "\n",
    "As in previous weeks the code is already given, but I would ask you to do the following things:\n",
    "\n",
    "* Add noise to the input images and see how your autoencoder works with these.\n",
    "* Add more dense layers to your autoencoder model (hint: you can use: x = Dense(128, activation='relu')(input_img) as your initial layer and then instead of the \"encoded\" variable as you have it right now you can change input_img for x)\n",
    "* create an autoencoder that uses CNNs\n"
   ]
  },
  {
   "cell_type": "code",
   "execution_count": 1,
   "metadata": {
    "colab": {
     "base_uri": "https://localhost:8080/",
     "height": 34
    },
    "colab_type": "code",
    "id": "nZJPE6FPzqz-",
    "outputId": "adc85b47-dd50-4432-d8ac-7169455f5bae"
   },
   "outputs": [],
   "source": [
    "from tensorflow.keras.datasets import mnist\n",
    "import numpy as np\n",
    "from tensorflow.keras.layers import Input, Dense, Flatten, Activation\n",
    "from tensorflow.keras.models import Model, Sequential\n",
    "from tensorflow.keras.optimizers import Adadelta, SGD, Adam\n",
    "import matplotlib.pyplot as plt"
   ]
  },
  {
   "cell_type": "markdown",
   "metadata": {
    "colab_type": "text",
    "id": "R_E-CPgCMKpx"
   },
   "source": [
    "### Read the data and flatten it\n",
    "In this case, first we are going to use dense layers, here is another way to flattern your data before giving it to the dense layer."
   ]
  },
  {
   "cell_type": "code",
   "execution_count": 2,
   "metadata": {
    "colab": {},
    "colab_type": "code",
    "id": "Vd8A7BtSLvAB"
   },
   "outputs": [],
   "source": [
    "(x_train, _), (x_test, _) = mnist.load_data()"
   ]
  },
  {
   "cell_type": "code",
   "execution_count": 3,
   "metadata": {
    "colab": {
     "base_uri": "https://localhost:8080/",
     "height": 51
    },
    "colab_type": "code",
    "id": "ItV_5A9iz1Me",
    "outputId": "a2f464b2-7412-47b5-9db5-5070cdd62769"
   },
   "outputs": [
    {
     "name": "stdout",
     "output_type": "stream",
     "text": [
      "(60000, 784)\n",
      "(10000, 784)\n"
     ]
    }
   ],
   "source": [
    "x_train = x_train.astype('float32') / 255\n",
    "x_test = x_test.astype('float32') / 255\n",
    "\n",
    "# flatten the data (if working with Dense Network)\n",
    "\n",
    "x_train = x_train.reshape((len(x_train), np.prod(x_train.shape[1:]))) \n",
    "x_test = x_test.reshape((len(x_test), np.prod(x_test.shape[1:])))\n",
    "\n",
    "# Add Noise to x_train, x_test\n",
    "x_train_noisy = x_train # + np.random.normal(loc=0.0, scale=0.1, size=x_train.shape)\n",
    "x_test_noisy = x_test # + np.random.normal(loc=0.0, scale=0.1, size=x_test.shape)\n",
    "\n",
    "# OPTIONAL - Transform the data (random translation/rotation/scale/shear/whatever)\n",
    "# YOUR CODE HERE\n",
    "\n",
    "print(x_train.shape)\n",
    "print(x_test.shape)"
   ]
  },
  {
   "cell_type": "markdown",
   "metadata": {
    "colab_type": "text",
    "id": "MSKi870MMdtv"
   },
   "source": [
    "### Create your autoencoder\n",
    "We can now create the model for the autoencoder, in this case is a very simple one where of an input layer, one hiden layer (the encoded part) and an output later (the decoded part)."
   ]
  },
  {
   "cell_type": "code",
   "execution_count": 4,
   "metadata": {
    "colab": {},
    "colab_type": "code",
    "id": "9ZzzEFXw0EIx"
   },
   "outputs": [],
   "source": [
    "# this is the size of our encoded representations\n",
    "encoding_dim = 32\n",
    "input_img = Input(shape=(784,))\n",
    "encoded = Dense(encoding_dim, activation='relu')(input_img)\n",
    "# \"decoded\" is the lossy reconstruction of the input\n",
    "decoded = Dense(784, activation='sigmoid')(encoded)\n",
    "# this model maps an input to its reconstruction\n",
    "autoencoder = Model(input_img, decoded)"
   ]
  },
  {
   "cell_type": "markdown",
   "metadata": {
    "colab_type": "text",
    "id": "saTWPiRNNB4g"
   },
   "source": [
    "### The encoder and decoder models\n",
    "This models we are going to use them later to test the results.\n"
   ]
  },
  {
   "cell_type": "code",
   "execution_count": 5,
   "metadata": {
    "colab": {},
    "colab_type": "code",
    "id": "hv5B9yYa2k5-"
   },
   "outputs": [],
   "source": [
    "# this model maps an input to its encoded representation\n",
    "encoder = Model(input_img, encoded)\n",
    "# create a placeholder for an encoded (32-dimensional) input\n",
    "encoded_input = Input(shape=(encoding_dim,))\n",
    "# retrieve the last layer of the autoencoder model\n",
    "decoder_layer = autoencoder.layers[-1]\n",
    "# create the decoder model\n",
    "decoder = Model(encoded_input, decoder_layer(encoded_input))"
   ]
  },
  {
   "cell_type": "markdown",
   "metadata": {
    "colab_type": "text",
    "id": "QQoEBrEkN0sn"
   },
   "source": [
    "### Time to train our model\n",
    "Try different optimizers, deffinitely SGD is not the best for this task. you should be able to ger good results with the setup given"
   ]
  },
  {
   "cell_type": "code",
   "execution_count": 6,
   "metadata": {
    "colab": {},
    "colab_type": "code",
    "id": "UlQOqHXZ2oao"
   },
   "outputs": [],
   "source": [
    "opt = Adam()\n",
    "autoencoder.compile(optimizer=opt, loss='binary_crossentropy')"
   ]
  },
  {
   "cell_type": "code",
   "execution_count": 7,
   "metadata": {
    "colab": {
     "base_uri": "https://localhost:8080/",
     "height": 1000
    },
    "colab_type": "code",
    "id": "8QXryo-v3HZP",
    "outputId": "ff88c4e3-eded-4ebc-8586-2e349ad43ea5"
   },
   "outputs": [
    {
     "name": "stdout",
     "output_type": "stream",
     "text": [
      "Epoch 1/200\n",
      "235/235 [==============================] - 2s 6ms/step - loss: 0.3849 - val_loss: 0.1859\n",
      "Epoch 2/200\n",
      "235/235 [==============================] - 1s 3ms/step - loss: 0.1776 - val_loss: 0.1518\n",
      "Epoch 3/200\n",
      "235/235 [==============================] - 1s 3ms/step - loss: 0.1478 - val_loss: 0.1329\n",
      "Epoch 4/200\n",
      "235/235 [==============================] - 1s 3ms/step - loss: 0.1311 - val_loss: 0.1215\n",
      "Epoch 5/200\n",
      "235/235 [==============================] - 1s 3ms/step - loss: 0.1205 - val_loss: 0.1133\n",
      "Epoch 6/200\n",
      "235/235 [==============================] - 1s 3ms/step - loss: 0.1129 - val_loss: 0.1074\n",
      "Epoch 7/200\n",
      "235/235 [==============================] - 1s 3ms/step - loss: 0.1074 - val_loss: 0.1028\n",
      "Epoch 8/200\n",
      "235/235 [==============================] - 1s 3ms/step - loss: 0.1031 - val_loss: 0.0995\n",
      "Epoch 9/200\n",
      "235/235 [==============================] - 1s 3ms/step - loss: 0.1001 - val_loss: 0.0971\n",
      "Epoch 10/200\n",
      "235/235 [==============================] - 1s 3ms/step - loss: 0.0979 - val_loss: 0.0955\n",
      "Epoch 11/200\n",
      "235/235 [==============================] - 1s 3ms/step - loss: 0.0966 - val_loss: 0.0944\n",
      "Epoch 12/200\n",
      "235/235 [==============================] - 1s 3ms/step - loss: 0.0956 - val_loss: 0.0938\n",
      "Epoch 13/200\n",
      "235/235 [==============================] - 1s 3ms/step - loss: 0.0950 - val_loss: 0.0934\n",
      "Epoch 14/200\n",
      "235/235 [==============================] - 1s 3ms/step - loss: 0.0945 - val_loss: 0.0930\n",
      "Epoch 15/200\n",
      "235/235 [==============================] - 1s 3ms/step - loss: 0.0942 - val_loss: 0.0929\n",
      "Epoch 16/200\n",
      "235/235 [==============================] - 1s 3ms/step - loss: 0.0938 - val_loss: 0.0926\n",
      "Epoch 17/200\n",
      "235/235 [==============================] - 1s 3ms/step - loss: 0.0939 - val_loss: 0.0925\n",
      "Epoch 18/200\n",
      "235/235 [==============================] - 1s 3ms/step - loss: 0.0938 - val_loss: 0.0924\n",
      "Epoch 19/200\n",
      "235/235 [==============================] - 1s 3ms/step - loss: 0.0936 - val_loss: 0.0923\n",
      "Epoch 20/200\n",
      "235/235 [==============================] - 1s 3ms/step - loss: 0.0934 - val_loss: 0.0923\n",
      "Epoch 21/200\n",
      "235/235 [==============================] - 1s 3ms/step - loss: 0.0934 - val_loss: 0.0921\n",
      "Epoch 22/200\n",
      "235/235 [==============================] - 1s 3ms/step - loss: 0.0933 - val_loss: 0.0921\n",
      "Epoch 23/200\n",
      "235/235 [==============================] - 1s 3ms/step - loss: 0.0934 - val_loss: 0.0920\n",
      "Epoch 24/200\n",
      "235/235 [==============================] - 1s 3ms/step - loss: 0.0931 - val_loss: 0.0920\n",
      "Epoch 25/200\n",
      "235/235 [==============================] - 1s 3ms/step - loss: 0.0932 - val_loss: 0.0919\n",
      "Epoch 26/200\n",
      "235/235 [==============================] - 1s 3ms/step - loss: 0.0929 - val_loss: 0.0918\n",
      "Epoch 27/200\n",
      "235/235 [==============================] - 1s 3ms/step - loss: 0.0929 - val_loss: 0.0918\n",
      "Epoch 28/200\n",
      "235/235 [==============================] - 1s 3ms/step - loss: 0.0932 - val_loss: 0.0918\n",
      "Epoch 29/200\n",
      "235/235 [==============================] - 1s 3ms/step - loss: 0.0929 - val_loss: 0.0919\n",
      "Epoch 30/200\n",
      "235/235 [==============================] - 1s 3ms/step - loss: 0.0930 - val_loss: 0.0918\n",
      "Epoch 31/200\n",
      "235/235 [==============================] - 1s 3ms/step - loss: 0.0928 - val_loss: 0.0918\n",
      "Epoch 32/200\n",
      "235/235 [==============================] - 1s 3ms/step - loss: 0.0928 - val_loss: 0.0918\n",
      "Epoch 33/200\n",
      "235/235 [==============================] - 1s 3ms/step - loss: 0.0927 - val_loss: 0.0918\n",
      "Epoch 34/200\n",
      "235/235 [==============================] - 1s 3ms/step - loss: 0.0930 - val_loss: 0.0917\n",
      "Epoch 35/200\n",
      "235/235 [==============================] - 1s 3ms/step - loss: 0.0927 - val_loss: 0.0916\n",
      "Epoch 36/200\n",
      "235/235 [==============================] - 1s 3ms/step - loss: 0.0929 - val_loss: 0.0917\n",
      "Epoch 37/200\n",
      "235/235 [==============================] - 1s 3ms/step - loss: 0.0927 - val_loss: 0.0916\n",
      "Epoch 38/200\n",
      "235/235 [==============================] - 1s 3ms/step - loss: 0.0930 - val_loss: 0.0916\n",
      "Epoch 39/200\n",
      "235/235 [==============================] - 1s 3ms/step - loss: 0.0929 - val_loss: 0.0916\n",
      "Epoch 40/200\n",
      "235/235 [==============================] - 1s 3ms/step - loss: 0.0928 - val_loss: 0.0916\n",
      "Epoch 41/200\n",
      "235/235 [==============================] - 1s 3ms/step - loss: 0.0927 - val_loss: 0.0916\n",
      "Epoch 42/200\n",
      "235/235 [==============================] - 1s 3ms/step - loss: 0.0926 - val_loss: 0.0916\n",
      "Epoch 43/200\n",
      "235/235 [==============================] - 1s 3ms/step - loss: 0.0928 - val_loss: 0.0916\n",
      "Epoch 44/200\n",
      "235/235 [==============================] - 1s 3ms/step - loss: 0.0926 - val_loss: 0.0916\n",
      "Epoch 45/200\n",
      "235/235 [==============================] - 1s 3ms/step - loss: 0.0926 - val_loss: 0.0916\n",
      "Epoch 46/200\n",
      "235/235 [==============================] - 1s 3ms/step - loss: 0.0925 - val_loss: 0.0916\n",
      "Epoch 47/200\n",
      "235/235 [==============================] - 1s 3ms/step - loss: 0.0926 - val_loss: 0.0916\n",
      "Epoch 48/200\n",
      "235/235 [==============================] - 1s 3ms/step - loss: 0.0926 - val_loss: 0.0916\n",
      "Epoch 49/200\n",
      "235/235 [==============================] - 1s 3ms/step - loss: 0.0924 - val_loss: 0.0917\n",
      "Epoch 50/200\n",
      "235/235 [==============================] - 1s 3ms/step - loss: 0.0927 - val_loss: 0.0915\n",
      "Epoch 51/200\n",
      "235/235 [==============================] - 1s 3ms/step - loss: 0.0925 - val_loss: 0.0916\n",
      "Epoch 52/200\n",
      "235/235 [==============================] - 1s 3ms/step - loss: 0.0926 - val_loss: 0.0915\n",
      "Epoch 53/200\n",
      "235/235 [==============================] - 1s 3ms/step - loss: 0.0928 - val_loss: 0.0915\n",
      "Epoch 54/200\n",
      "235/235 [==============================] - 1s 3ms/step - loss: 0.0924 - val_loss: 0.0915\n",
      "Epoch 55/200\n",
      "235/235 [==============================] - 1s 3ms/step - loss: 0.0926 - val_loss: 0.0915\n",
      "Epoch 56/200\n",
      "235/235 [==============================] - 1s 3ms/step - loss: 0.0927 - val_loss: 0.0914\n",
      "Epoch 57/200\n",
      "235/235 [==============================] - 1s 3ms/step - loss: 0.0926 - val_loss: 0.0916\n",
      "Epoch 58/200\n",
      "235/235 [==============================] - 1s 3ms/step - loss: 0.0924 - val_loss: 0.0914\n",
      "Epoch 59/200\n",
      "235/235 [==============================] - 1s 3ms/step - loss: 0.0926 - val_loss: 0.0914\n",
      "Epoch 60/200\n",
      "235/235 [==============================] - 1s 3ms/step - loss: 0.0927 - val_loss: 0.0915\n",
      "Epoch 61/200\n",
      "235/235 [==============================] - 1s 3ms/step - loss: 0.0925 - val_loss: 0.0914\n",
      "Epoch 62/200\n",
      "235/235 [==============================] - 1s 3ms/step - loss: 0.0927 - val_loss: 0.0914\n",
      "Epoch 63/200\n",
      "235/235 [==============================] - 1s 3ms/step - loss: 0.0924 - val_loss: 0.0915\n",
      "Epoch 64/200\n",
      "235/235 [==============================] - 1s 3ms/step - loss: 0.0926 - val_loss: 0.0914\n",
      "Epoch 65/200\n",
      "235/235 [==============================] - 1s 3ms/step - loss: 0.0925 - val_loss: 0.0914\n",
      "Epoch 66/200\n",
      "235/235 [==============================] - 1s 3ms/step - loss: 0.0925 - val_loss: 0.0914\n",
      "Epoch 67/200\n",
      "235/235 [==============================] - 1s 3ms/step - loss: 0.0926 - val_loss: 0.0913\n",
      "Epoch 68/200\n",
      "235/235 [==============================] - 1s 3ms/step - loss: 0.0925 - val_loss: 0.0914\n",
      "Epoch 69/200\n",
      "235/235 [==============================] - 1s 3ms/step - loss: 0.0925 - val_loss: 0.0914\n",
      "Epoch 70/200\n",
      "235/235 [==============================] - 1s 3ms/step - loss: 0.0925 - val_loss: 0.0914\n",
      "Epoch 71/200\n",
      "235/235 [==============================] - 1s 3ms/step - loss: 0.0925 - val_loss: 0.0913\n",
      "Epoch 72/200\n",
      "235/235 [==============================] - 1s 3ms/step - loss: 0.0924 - val_loss: 0.0913\n",
      "Epoch 73/200\n",
      "235/235 [==============================] - 1s 3ms/step - loss: 0.0925 - val_loss: 0.0914\n",
      "Epoch 74/200\n",
      "235/235 [==============================] - 1s 3ms/step - loss: 0.0926 - val_loss: 0.0914\n",
      "Epoch 75/200\n",
      "235/235 [==============================] - 1s 3ms/step - loss: 0.0925 - val_loss: 0.0914\n",
      "Epoch 76/200\n",
      "235/235 [==============================] - 1s 3ms/step - loss: 0.0924 - val_loss: 0.0914\n",
      "Epoch 77/200\n",
      "235/235 [==============================] - 1s 3ms/step - loss: 0.0923 - val_loss: 0.0914\n",
      "Epoch 78/200\n",
      "235/235 [==============================] - 1s 3ms/step - loss: 0.0923 - val_loss: 0.0914\n",
      "Epoch 79/200\n",
      "235/235 [==============================] - 1s 3ms/step - loss: 0.0924 - val_loss: 0.0913\n",
      "Epoch 80/200\n",
      "235/235 [==============================] - 1s 3ms/step - loss: 0.0924 - val_loss: 0.0913\n",
      "Epoch 81/200\n"
     ]
    },
    {
     "name": "stdout",
     "output_type": "stream",
     "text": [
      "235/235 [==============================] - 1s 3ms/step - loss: 0.0921 - val_loss: 0.0914\n",
      "Epoch 82/200\n",
      "235/235 [==============================] - 1s 3ms/step - loss: 0.0924 - val_loss: 0.0913\n",
      "Epoch 83/200\n",
      "235/235 [==============================] - 1s 3ms/step - loss: 0.0922 - val_loss: 0.0913\n",
      "Epoch 84/200\n",
      "235/235 [==============================] - 1s 3ms/step - loss: 0.0923 - val_loss: 0.0913\n",
      "Epoch 85/200\n",
      "235/235 [==============================] - 1s 3ms/step - loss: 0.0923 - val_loss: 0.0914\n",
      "Epoch 86/200\n",
      "235/235 [==============================] - 1s 3ms/step - loss: 0.0923 - val_loss: 0.0913\n",
      "Epoch 87/200\n",
      "235/235 [==============================] - 1s 3ms/step - loss: 0.0923 - val_loss: 0.0913\n",
      "Epoch 88/200\n",
      "235/235 [==============================] - 1s 3ms/step - loss: 0.0924 - val_loss: 0.0913\n",
      "Epoch 89/200\n",
      "235/235 [==============================] - 1s 3ms/step - loss: 0.0924 - val_loss: 0.0913\n",
      "Epoch 90/200\n",
      "235/235 [==============================] - 1s 3ms/step - loss: 0.0923 - val_loss: 0.0913\n",
      "Epoch 91/200\n",
      "235/235 [==============================] - 1s 3ms/step - loss: 0.0923 - val_loss: 0.0912\n",
      "Epoch 92/200\n",
      "235/235 [==============================] - 1s 3ms/step - loss: 0.0923 - val_loss: 0.0913\n",
      "Epoch 93/200\n",
      "235/235 [==============================] - 1s 3ms/step - loss: 0.0924 - val_loss: 0.0913\n",
      "Epoch 94/200\n",
      "235/235 [==============================] - 1s 3ms/step - loss: 0.0922 - val_loss: 0.0913\n",
      "Epoch 95/200\n",
      "235/235 [==============================] - 1s 3ms/step - loss: 0.0923 - val_loss: 0.0912\n",
      "Epoch 96/200\n",
      "235/235 [==============================] - 1s 3ms/step - loss: 0.0923 - val_loss: 0.0913\n",
      "Epoch 97/200\n",
      "235/235 [==============================] - 1s 3ms/step - loss: 0.0922 - val_loss: 0.0912\n",
      "Epoch 98/200\n",
      "235/235 [==============================] - 1s 3ms/step - loss: 0.0924 - val_loss: 0.0913\n",
      "Epoch 99/200\n",
      "235/235 [==============================] - 1s 3ms/step - loss: 0.0921 - val_loss: 0.0912\n",
      "Epoch 100/200\n",
      "235/235 [==============================] - 1s 3ms/step - loss: 0.0922 - val_loss: 0.0913\n",
      "Epoch 101/200\n",
      "235/235 [==============================] - 1s 3ms/step - loss: 0.0925 - val_loss: 0.0913\n",
      "Epoch 102/200\n",
      "235/235 [==============================] - 1s 3ms/step - loss: 0.0924 - val_loss: 0.0913\n",
      "Epoch 103/200\n",
      "235/235 [==============================] - 1s 3ms/step - loss: 0.0922 - val_loss: 0.0913\n",
      "Epoch 104/200\n",
      "235/235 [==============================] - 1s 3ms/step - loss: 0.0925 - val_loss: 0.0912\n",
      "Epoch 105/200\n",
      "235/235 [==============================] - 1s 3ms/step - loss: 0.0922 - val_loss: 0.0912\n",
      "Epoch 106/200\n",
      "235/235 [==============================] - 1s 3ms/step - loss: 0.0922 - val_loss: 0.0912\n",
      "Epoch 107/200\n",
      "235/235 [==============================] - 1s 3ms/step - loss: 0.0923 - val_loss: 0.0912\n",
      "Epoch 108/200\n",
      "235/235 [==============================] - 1s 3ms/step - loss: 0.0921 - val_loss: 0.0912\n",
      "Epoch 109/200\n",
      "235/235 [==============================] - 1s 3ms/step - loss: 0.0921 - val_loss: 0.0912\n",
      "Epoch 110/200\n",
      "235/235 [==============================] - 1s 3ms/step - loss: 0.0922 - val_loss: 0.0912\n",
      "Epoch 111/200\n",
      "235/235 [==============================] - 1s 3ms/step - loss: 0.0922 - val_loss: 0.0912\n",
      "Epoch 112/200\n",
      "235/235 [==============================] - 1s 3ms/step - loss: 0.0922 - val_loss: 0.0912\n",
      "Epoch 113/200\n",
      "235/235 [==============================] - 1s 3ms/step - loss: 0.0922 - val_loss: 0.0911\n",
      "Epoch 114/200\n",
      "235/235 [==============================] - 1s 3ms/step - loss: 0.0922 - val_loss: 0.0911\n",
      "Epoch 115/200\n",
      "235/235 [==============================] - 1s 3ms/step - loss: 0.0922 - val_loss: 0.0911\n",
      "Epoch 116/200\n",
      "235/235 [==============================] - 1s 3ms/step - loss: 0.0924 - val_loss: 0.0912\n",
      "Epoch 117/200\n",
      "235/235 [==============================] - 1s 3ms/step - loss: 0.0920 - val_loss: 0.0912\n",
      "Epoch 118/200\n",
      "235/235 [==============================] - 1s 3ms/step - loss: 0.0920 - val_loss: 0.0911\n",
      "Epoch 119/200\n",
      "235/235 [==============================] - 1s 3ms/step - loss: 0.0923 - val_loss: 0.0911\n",
      "Epoch 120/200\n",
      "235/235 [==============================] - 1s 3ms/step - loss: 0.0923 - val_loss: 0.0912\n",
      "Epoch 121/200\n",
      "235/235 [==============================] - 1s 3ms/step - loss: 0.0921 - val_loss: 0.0911\n",
      "Epoch 122/200\n",
      "235/235 [==============================] - 1s 3ms/step - loss: 0.0921 - val_loss: 0.0911\n",
      "Epoch 123/200\n",
      "235/235 [==============================] - 1s 3ms/step - loss: 0.0922 - val_loss: 0.0912\n",
      "Epoch 124/200\n",
      "235/235 [==============================] - 1s 3ms/step - loss: 0.0922 - val_loss: 0.0911\n",
      "Epoch 125/200\n",
      "235/235 [==============================] - 1s 3ms/step - loss: 0.0920 - val_loss: 0.0911\n",
      "Epoch 126/200\n",
      "235/235 [==============================] - 1s 3ms/step - loss: 0.0921 - val_loss: 0.0912\n",
      "Epoch 127/200\n",
      "235/235 [==============================] - 1s 3ms/step - loss: 0.0921 - val_loss: 0.0911\n",
      "Epoch 128/200\n",
      "235/235 [==============================] - 1s 3ms/step - loss: 0.0922 - val_loss: 0.0911\n",
      "Epoch 129/200\n",
      "235/235 [==============================] - 1s 3ms/step - loss: 0.0921 - val_loss: 0.0911\n",
      "Epoch 130/200\n",
      "235/235 [==============================] - 1s 3ms/step - loss: 0.0922 - val_loss: 0.0912\n",
      "Epoch 131/200\n",
      "235/235 [==============================] - 1s 3ms/step - loss: 0.0921 - val_loss: 0.0911\n",
      "Epoch 132/200\n",
      "235/235 [==============================] - 1s 3ms/step - loss: 0.0920 - val_loss: 0.0912\n",
      "Epoch 133/200\n",
      "235/235 [==============================] - 1s 3ms/step - loss: 0.0921 - val_loss: 0.0911\n",
      "Epoch 134/200\n",
      "235/235 [==============================] - 1s 3ms/step - loss: 0.0923 - val_loss: 0.0911\n",
      "Epoch 135/200\n",
      "235/235 [==============================] - 1s 3ms/step - loss: 0.0922 - val_loss: 0.0911\n",
      "Epoch 136/200\n",
      "235/235 [==============================] - 1s 3ms/step - loss: 0.0922 - val_loss: 0.0911\n",
      "Epoch 137/200\n",
      "235/235 [==============================] - 1s 3ms/step - loss: 0.0920 - val_loss: 0.0911\n",
      "Epoch 138/200\n",
      "235/235 [==============================] - 1s 3ms/step - loss: 0.0920 - val_loss: 0.0911\n",
      "Epoch 139/200\n",
      "235/235 [==============================] - 1s 3ms/step - loss: 0.0921 - val_loss: 0.0911\n",
      "Epoch 140/200\n",
      "235/235 [==============================] - 1s 3ms/step - loss: 0.0920 - val_loss: 0.0911\n",
      "Epoch 141/200\n",
      "235/235 [==============================] - 1s 3ms/step - loss: 0.0920 - val_loss: 0.0910\n",
      "Epoch 142/200\n",
      "235/235 [==============================] - 1s 3ms/step - loss: 0.0919 - val_loss: 0.0911\n",
      "Epoch 143/200\n",
      "235/235 [==============================] - 1s 3ms/step - loss: 0.0921 - val_loss: 0.0910\n",
      "Epoch 144/200\n",
      "235/235 [==============================] - 1s 3ms/step - loss: 0.0919 - val_loss: 0.0910\n",
      "Epoch 145/200\n",
      "235/235 [==============================] - 1s 3ms/step - loss: 0.0922 - val_loss: 0.0911\n",
      "Epoch 146/200\n",
      "235/235 [==============================] - 1s 3ms/step - loss: 0.0921 - val_loss: 0.0910\n",
      "Epoch 147/200\n",
      "235/235 [==============================] - 1s 3ms/step - loss: 0.0920 - val_loss: 0.0911\n",
      "Epoch 148/200\n",
      "235/235 [==============================] - 1s 3ms/step - loss: 0.0920 - val_loss: 0.0910\n",
      "Epoch 149/200\n",
      "235/235 [==============================] - 1s 3ms/step - loss: 0.0921 - val_loss: 0.0910\n",
      "Epoch 150/200\n",
      "235/235 [==============================] - 1s 3ms/step - loss: 0.0920 - val_loss: 0.0911\n",
      "Epoch 151/200\n",
      "235/235 [==============================] - 1s 3ms/step - loss: 0.0918 - val_loss: 0.0910\n",
      "Epoch 152/200\n",
      "235/235 [==============================] - 1s 4ms/step - loss: 0.0920 - val_loss: 0.0910\n",
      "Epoch 153/200\n",
      "235/235 [==============================] - 1s 4ms/step - loss: 0.0920 - val_loss: 0.0910\n",
      "Epoch 154/200\n",
      "235/235 [==============================] - 1s 3ms/step - loss: 0.0920 - val_loss: 0.0910\n",
      "Epoch 155/200\n",
      "235/235 [==============================] - 1s 3ms/step - loss: 0.0920 - val_loss: 0.0911\n",
      "Epoch 156/200\n",
      "235/235 [==============================] - 1s 3ms/step - loss: 0.0919 - val_loss: 0.0910\n",
      "Epoch 157/200\n",
      "235/235 [==============================] - 1s 3ms/step - loss: 0.0920 - val_loss: 0.0910\n",
      "Epoch 158/200\n",
      "235/235 [==============================] - 1s 3ms/step - loss: 0.0919 - val_loss: 0.0910\n",
      "Epoch 159/200\n",
      "235/235 [==============================] - 1s 3ms/step - loss: 0.0920 - val_loss: 0.0910\n",
      "Epoch 160/200\n",
      "235/235 [==============================] - 1s 3ms/step - loss: 0.0919 - val_loss: 0.0909\n"
     ]
    },
    {
     "name": "stdout",
     "output_type": "stream",
     "text": [
      "Epoch 161/200\n",
      "235/235 [==============================] - 1s 3ms/step - loss: 0.0920 - val_loss: 0.0910\n",
      "Epoch 162/200\n",
      "235/235 [==============================] - 1s 3ms/step - loss: 0.0919 - val_loss: 0.0910\n",
      "Epoch 163/200\n",
      "235/235 [==============================] - 1s 3ms/step - loss: 0.0921 - val_loss: 0.0910\n",
      "Epoch 164/200\n",
      "235/235 [==============================] - 1s 3ms/step - loss: 0.0918 - val_loss: 0.0910\n",
      "Epoch 165/200\n",
      "235/235 [==============================] - 1s 3ms/step - loss: 0.0921 - val_loss: 0.0910\n",
      "Epoch 166/200\n",
      "235/235 [==============================] - 1s 3ms/step - loss: 0.0920 - val_loss: 0.0909\n",
      "Epoch 167/200\n",
      "235/235 [==============================] - 1s 3ms/step - loss: 0.0921 - val_loss: 0.0910\n",
      "Epoch 168/200\n",
      "235/235 [==============================] - 1s 3ms/step - loss: 0.0920 - val_loss: 0.0910\n",
      "Epoch 169/200\n",
      "235/235 [==============================] - 1s 3ms/step - loss: 0.0918 - val_loss: 0.0910\n",
      "Epoch 170/200\n",
      "235/235 [==============================] - 1s 3ms/step - loss: 0.0918 - val_loss: 0.0909\n",
      "Epoch 171/200\n",
      "235/235 [==============================] - 1s 3ms/step - loss: 0.0917 - val_loss: 0.0910\n",
      "Epoch 172/200\n",
      "235/235 [==============================] - 1s 3ms/step - loss: 0.0917 - val_loss: 0.0909\n",
      "Epoch 173/200\n",
      "235/235 [==============================] - 1s 3ms/step - loss: 0.0917 - val_loss: 0.0909\n",
      "Epoch 174/200\n",
      "235/235 [==============================] - 1s 3ms/step - loss: 0.0919 - val_loss: 0.0909\n",
      "Epoch 175/200\n",
      "235/235 [==============================] - 1s 3ms/step - loss: 0.0920 - val_loss: 0.0909\n",
      "Epoch 176/200\n",
      "235/235 [==============================] - 1s 3ms/step - loss: 0.0918 - val_loss: 0.0909\n",
      "Epoch 177/200\n",
      "235/235 [==============================] - 1s 3ms/step - loss: 0.0919 - val_loss: 0.0908\n",
      "Epoch 178/200\n",
      "235/235 [==============================] - 1s 3ms/step - loss: 0.0917 - val_loss: 0.0909\n",
      "Epoch 179/200\n",
      "235/235 [==============================] - 1s 3ms/step - loss: 0.0918 - val_loss: 0.0909\n",
      "Epoch 180/200\n",
      "235/235 [==============================] - 1s 3ms/step - loss: 0.0919 - val_loss: 0.0909\n",
      "Epoch 181/200\n",
      "235/235 [==============================] - 1s 3ms/step - loss: 0.0921 - val_loss: 0.0909\n",
      "Epoch 182/200\n",
      "235/235 [==============================] - 1s 3ms/step - loss: 0.0918 - val_loss: 0.0909\n",
      "Epoch 183/200\n",
      "235/235 [==============================] - 1s 3ms/step - loss: 0.0920 - val_loss: 0.0909\n",
      "Epoch 184/200\n",
      "235/235 [==============================] - 1s 3ms/step - loss: 0.0918 - val_loss: 0.0909\n",
      "Epoch 185/200\n",
      "235/235 [==============================] - 1s 3ms/step - loss: 0.0919 - val_loss: 0.0909\n",
      "Epoch 186/200\n",
      "235/235 [==============================] - 1s 3ms/step - loss: 0.0920 - val_loss: 0.0909\n",
      "Epoch 187/200\n",
      "235/235 [==============================] - 1s 3ms/step - loss: 0.0918 - val_loss: 0.0909\n",
      "Epoch 188/200\n",
      "235/235 [==============================] - 1s 3ms/step - loss: 0.0918 - val_loss: 0.0910\n",
      "Epoch 189/200\n",
      "235/235 [==============================] - 1s 3ms/step - loss: 0.0918 - val_loss: 0.0908\n",
      "Epoch 190/200\n",
      "235/235 [==============================] - 1s 3ms/step - loss: 0.0918 - val_loss: 0.0909\n",
      "Epoch 191/200\n",
      "235/235 [==============================] - 1s 3ms/step - loss: 0.0917 - val_loss: 0.0909\n",
      "Epoch 192/200\n",
      "235/235 [==============================] - 1s 3ms/step - loss: 0.0916 - val_loss: 0.0909\n",
      "Epoch 193/200\n",
      "235/235 [==============================] - 1s 3ms/step - loss: 0.0918 - val_loss: 0.0909\n",
      "Epoch 194/200\n",
      "235/235 [==============================] - 1s 3ms/step - loss: 0.0919 - val_loss: 0.0909\n",
      "Epoch 195/200\n",
      "235/235 [==============================] - 1s 3ms/step - loss: 0.0919 - val_loss: 0.0908\n",
      "Epoch 196/200\n",
      "235/235 [==============================] - 1s 3ms/step - loss: 0.0919 - val_loss: 0.0909\n",
      "Epoch 197/200\n",
      "235/235 [==============================] - 1s 3ms/step - loss: 0.0918 - val_loss: 0.0908\n",
      "Epoch 198/200\n",
      "235/235 [==============================] - 1s 3ms/step - loss: 0.0918 - val_loss: 0.0908\n",
      "Epoch 199/200\n",
      "235/235 [==============================] - 1s 3ms/step - loss: 0.0919 - val_loss: 0.0909\n",
      "Epoch 200/200\n",
      "235/235 [==============================] - 1s 3ms/step - loss: 0.0917 - val_loss: 0.0908\n"
     ]
    },
    {
     "data": {
      "text/plain": [
       "<tensorflow.python.keras.callbacks.History at 0x1f38523e0a0>"
      ]
     },
     "execution_count": 7,
     "metadata": {},
     "output_type": "execute_result"
    }
   ],
   "source": [
    "# Use the noisy data as your input and the non-noisy data as the ground truth\n",
    "autoencoder.fit(x_train_noisy, x_train,\n",
    "                epochs=200,\n",
    "                batch_size=256,\n",
    "                shuffle=True,\n",
    "                validation_data=(x_test, x_test))"
   ]
  },
  {
   "cell_type": "markdown",
   "metadata": {
    "colab_type": "text",
    "id": "X9kwibqJOYI1"
   },
   "source": [
    "### Now let's test our Autoencoder!\n",
    "One important thing to notice is how reshape is used to rearrange the image plot it."
   ]
  },
  {
   "cell_type": "code",
   "execution_count": 8,
   "metadata": {
    "colab": {},
    "colab_type": "code",
    "id": "xtAJO86Z3MSO"
   },
   "outputs": [],
   "source": [
    "encoded_imgs = encoder.predict(x_test)\n",
    "decoded_imgs = decoder.predict(encoded_imgs)"
   ]
  },
  {
   "cell_type": "code",
   "execution_count": 9,
   "metadata": {
    "colab": {
     "base_uri": "https://localhost:8080/",
     "height": 248
    },
    "colab_type": "code",
    "id": "aVHmCaYB3PjB",
    "outputId": "dcf11702-f417-497b-a3b0-a70130ade4eb"
   },
   "outputs": [
    {
     "data": {
      "image/png": "[encoded data removed]",
      "text/plain": [
       "<Figure size 1440x288 with 20 Axes>"
      ]
     },
     "metadata": {
      "needs_background": "light"
     },
     "output_type": "display_data"
    }
   ],
   "source": [
    "n = 10  \n",
    "plt.figure(figsize=(20, 4))\n",
    "for i in range(n):\n",
    "    # display original\n",
    "    ax = plt.subplot(2, n, i + 1)\n",
    "    plt.imshow(x_test_noisy[i].reshape(28, 28))\n",
    "    plt.gray()\n",
    "    ax.get_xaxis().set_visible(False)\n",
    "    ax.get_yaxis().set_visible(False)\n",
    "\n",
    "    # display reconstruction\n",
    "    ax = plt.subplot(2, n, i + 1 + n)\n",
    "    plt.imshow(decoded_imgs[i].reshape(28, 28))\n",
    "    plt.gray()\n",
    "    ax.get_xaxis().set_visible(False)\n",
    "    ax.get_yaxis().set_visible(False)\n",
    "plt.show()"
   ]
  },
  {
   "cell_type": "code",
   "execution_count": null,
   "metadata": {
    "colab": {},
    "colab_type": "code",
    "id": "Gf6i5b0W8V2i"
   },
   "outputs": [],
   "source": []
  },
  {
   "cell_type": "code",
   "execution_count": null,
   "metadata": {
    "colab": {},
    "colab_type": "code",
    "id": "OOnfjuIE8V5X"
   },
   "outputs": [],
   "source": []
  }
 ],
 "metadata": {
  "colab": {
   "collapsed_sections": [],
   "name": "Lab09_Autoencoders.ipynb",
   "provenance": []
  },
  "kernelspec": {
   "display_name": "Python 3",
   "language": "python",
   "name": "python3"
  },
  "language_info": {
   "codemirror_mode": {
    "name": "ipython",
    "version": 3
   },
   "file_extension": ".py",
   "mimetype": "text/x-python",
   "name": "python",
   "nbconvert_exporter": "python",
   "pygments_lexer": "ipython3",
   "version": "3.8.9"
  }
 },
 "nbformat": 4,
 "nbformat_minor": 1
}
